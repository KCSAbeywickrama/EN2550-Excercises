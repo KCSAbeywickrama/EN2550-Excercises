{
 "cells": [
  {
   "cell_type": "markdown",
   "metadata": {},
   "source": [
    "EN2550 Excercise 07\n",
    "\n",
    "Index No.&nbsp;&nbsp;:&nbsp;190018V\n",
    "\n",
    "Name&nbsp;&nbsp;&nbsp;&nbsp;&nbsp;&nbsp;&nbsp;&nbsp;:&nbsp;Abeywickrama K.C.S.\n",
    "\n",
    "Github &nbsp;&nbsp;&nbsp;&nbsp;&nbsp;&nbsp;:&nbsp;https://github.com/KCSAbeywickrama/EN2550-Excercises"
   ]
  },
  {
   "cell_type": "code",
   "execution_count": 1,
   "metadata": {},
   "outputs": [],
   "source": [
    "# imports\n",
    "import numpy as np\n",
    "import cv2 as cv\n",
    "import matplotlib.pyplot as plt\n",
    "\n",
    "def imshowBGR(img,ax=plt):\n",
    "    ax.imshow(cv.cvtColor(img,cv.COLOR_BGR2RGB))"
   ]
  },
  {
   "cell_type": "code",
   "execution_count": null,
   "metadata": {},
   "outputs": [],
   "source": [
    "import numpy as np                                                                                                                        \n",
    "from plyfile import PlyData, PlyElement # open3d is the standard                                                                            \n",
    "import matplotlib.pyplot as plt                                                                                                          \n",
    "pcd = PlyData.read(r'images/airplane.ply')                                                                                                \n",
    "assert pcd is not None                                                                                                                    \n",
    "points = np.eoneatenate((pcd['vertex']['x'].reshape(1, -1), pcd['vertex']['y'].reshape(1, -1), pcd['vertex']['z'].reshape(1, -1)), axis=0)\n",
    "points = points - np.mean(points, axis=1).reshape(3,1)                                                                                    \n"
   ]
  }
 ],
 "metadata": {
  "interpreter": {
   "hash": "5f1bdf047d8a3bf8581c558bb703dab59a12888a7563f49739b3e564682366f5"
  },
  "kernelspec": {
   "display_name": "Python 3.10.0 64-bit (system)",
   "language": "python",
   "name": "python3"
  },
  "language_info": {
   "codemirror_mode": {
    "name": "ipython",
    "version": 3
   },
   "file_extension": ".py",
   "mimetype": "text/x-python",
   "name": "python",
   "nbconvert_exporter": "python",
   "pygments_lexer": "ipython3",
   "version": "3.10.0"
  },
  "orig_nbformat": 4
 },
 "nbformat": 4,
 "nbformat_minor": 2
}
