{
 "cells": [
  {
   "cell_type": "markdown",
   "metadata": {},
   "source": [
    "EN2550 Excercise 0\n",
    "\n",
    "Index No.&nbsp;&nbsp;:&nbsp;190018V\n",
    "\n",
    "Name&nbsp;&nbsp;&nbsp;&nbsp;&nbsp;&nbsp;&nbsp;&nbsp;:&nbsp;Abeywickrama K.C.S.\n",
    "\n",
    "Github &nbsp;&nbsp;&nbsp;&nbsp;&nbsp;&nbsp;:&nbsp;https://github.com/KCSAbeywickrama/EN2550-Excercises"
   ]
  },
  {
   "cell_type": "code",
   "execution_count": 3,
   "metadata": {},
   "outputs": [],
   "source": [
    "# imports\n",
    "import numpy as np\n",
    "import cv2 as cv\n",
    "import matplotlib.pyplot as plt"
   ]
  },
  {
   "cell_type": "code",
   "execution_count": 8,
   "metadata": {},
   "outputs": [],
   "source": [
    "im=cv.imread('sudoku.png',cv.IMREAD_COLOR)\n",
    "assert im is not None\n",
    "gray=cv.cvtColor(im,cv.COLOR_BGR2GRAY)\n",
    "edges=cv.Canny(gray,50,150,apertureSize=3)\n",
    "lines=cv.HoughLines(edges,1,np.pi/180,200)\n",
    "\n",
    "for line in lines:\n",
    "    rho,theta=line[0]\n",
    "    a=np.cos(theta)\n",
    "    b=np.sin(theta)\n",
    "    x0,y0=a*rho,b*rho\n",
    "    x1,y1=int(x0 + 1000*(-b)), int(y0 + 1000*(a))\n",
    "\n",
    "    x2,y2=int(x0 - 1600*(-b)), int(y0 - 1000*(a))\n",
    "\n",
    "    cv.line(im, (x1, y1), (x2, y2), (8,0,255), 2)\n",
    "\n",
    "cv.namedWindow(\"Image\", cv.WINDOW_NORMAL)\n",
    "cv.imshow(\"Image\", gray)\n",
    "\n",
    "cv.waitKey()\n",
    "\n",
    "cv.imshow(\"Image\", edges)\n",
    "\n",
    "cv.waitKey()\n",
    "\n",
    "cv.imshow(\"Image\", im)\n",
    "cv.waitKey()\n",
    "cv.destroyAllWindows()\n",
    "\n",
    " \n"
   ]
  },
  {
   "cell_type": "code",
   "execution_count": 12,
   "metadata": {},
   "outputs": [],
   "source": [
    "im=cv.imread('pic1.png',cv.IMREAD_COLOR)\n",
    "templ=cv.imread('templ.png',cv.IMREAD_COLOR)\n",
    "assert im is not None\n",
    "\n",
    "im_edges=cv.Canny(im,50,75)\n",
    "templ_edges=cv.Canny(templ,50,250)\n",
    "alg=cv.createGeneralizedHoughGuil()\n",
    "alg.setTemplate(templ_edges)\n",
    "alg.setAngleThresh(100000)\n",
    "alg.setScaleThresh(40000)\n",
    "alg.setPosThresh(1000)\n",
    "alg.setAngleStep(1)\n",
    "alg.setScaleStep(0.1)\n",
    "alg.setMinScale(0.9)\n",
    "alg.setMaxScale(1.1)\n",
    "position,votes=alg.detect(im_edges)\n",
    "out=cv.cvtColor(im,cv.COLOR_BAYER_BG2BGR)\n",
    "\n",
    "for x,y,scale,orientaion in position[0]:\n",
    "    halfHeight=templ.shape[0]/2\n",
    "    halfWidth=templ.shape[1]/2\n",
    "    p1=(int(x-hal))\n",
    "\n"
   ]
  },
  {
   "cell_type": "code",
   "execution_count": 17,
   "metadata": {},
   "outputs": [
    {
     "data": {
      "image/png": "[encoded data removed]",
      "text/plain": [
       "<Figure size 432x288 with 1 Axes>"
      ]
     },
     "metadata": {
      "needs_background": "light"
     },
     "output_type": "display_data"
    }
   ],
   "source": [
    "a, b, c, d = [0, 0, 1], [0, 1, 1], [1,1,1], [1,0,1]\n",
    "X = np.array([a,b,c,d]).T\n",
    "\n",
    "theta = np.pi*30/180\n",
    "s = 1\n",
    "tx, ty = 1.5, 2.2\n",
    "# H = np.array([[s*np.cos(theta), -s*np.sin(theta), tx], [s*np.sin(theta), s*np.cos(theta), ty], [0,0,1]])\n",
    "# Y = H @ X\n",
    "\n",
    "a11, a12, a21, a22 = 0.8, 1.2, 0.7, 1.5 #Should be a non-singular matrix here\n",
    "A = np.array([[a11,a12,tx], [a21, a22, ty], [0,0,1]])\n",
    "Y = A @ X\n",
    "\n",
    "x = np.append(X[0, :], X[0, 0])\n",
    "y = np.append(X[1, :], X[1, 0])\n",
    "fig, ax = plt.subplots(1,1)\n",
    "ax.plot(x, y, color='g')\n",
    "ax.set_aspect('equal')\n",
    "\n",
    "x = np.append(Y[0, :], Y[0, 0])\n",
    "y = np.append(Y[1, :], Y[1, 0])\n",
    "ax.plot(x, y, color='r')\n",
    "ax.set_aspect('equal')\n",
    "plt.show()"
   ]
  },
  {
   "cell_type": "code",
   "execution_count": null,
   "metadata": {},
   "outputs": [],
   "source": []
  }
 ],
 "metadata": {
  "interpreter": {
   "hash": "5f1bdf047d8a3bf8581c558bb703dab59a12888a7563f49739b3e564682366f5"
  },
  "kernelspec": {
   "display_name": "Python 3.10.0 64-bit (system)",
   "language": "python",
   "name": "python3"
  },
  "language_info": {
   "codemirror_mode": {
    "name": "ipython",
    "version": 3
   },
   "file_extension": ".py",
   "mimetype": "text/x-python",
   "name": "python",
   "nbconvert_exporter": "python",
   "pygments_lexer": "ipython3",
   "version": "3.10.0"
  },
  "orig_nbformat": 4
 },
 "nbformat": 4,
 "nbformat_minor": 2
}
