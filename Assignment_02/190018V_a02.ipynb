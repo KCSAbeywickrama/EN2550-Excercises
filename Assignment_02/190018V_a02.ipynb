{
 "cells": [
  {
   "cell_type": "markdown",
   "metadata": {},
   "source": [
    "EN2550 Assignment 01\n",
    "\n",
    "Index No.&nbsp;&nbsp;:&nbsp;190018V\n",
    "\n",
    "Name&nbsp;&nbsp;&nbsp;&nbsp;&nbsp;&nbsp;&nbsp;&nbsp;:&nbsp;Abeywickrama K.C.S.\n",
    "\n",
    "Github &nbsp;&nbsp;&nbsp;&nbsp;&nbsp;&nbsp;:&nbsp;https://github.com/KCSAbeywickrama/EN2550-Excercises/tree/master/Assignment_02"
   ]
  },
  {
   "cell_type": "code",
   "execution_count": 1,
   "metadata": {},
   "outputs": [],
   "source": [
    "# imports\n",
    "import numpy as np\n",
    "import cv2 as cv\n",
    "import matplotlib.pyplot as plt\n",
    "\n",
    "def imshowBGR(img,ax=plt):\n",
    "    ax.imshow(cv.cvtColor(img,cv.COLOR_BGR2RGB))"
   ]
  },
  {
   "cell_type": "code",
   "execution_count": 166,
   "metadata": {},
   "outputs": [],
   "source": [
    "import numpy as np\n",
    "from scipy . optimize import minimize,curve_fit\n",
    "from scipy import linalg\n",
    "import matplotlib . pyplot as plt\n",
    "# np . random . seed ( 0 )\n",
    "N = 100\n",
    "half_n = N//2\n",
    "r = 10\n",
    "s = r /16\n",
    "t = np . random . uniform (0 , 2*np . pi , half_n )\n",
    "n = s*np . random . randn ( half_n )\n",
    "x , y = ( r + n)*np . cos ( t ) , ( r + n)*np . sin ( t )\n",
    "X_circ = np.hstack ( (x.reshape ( half_n , 1 ) , y.reshape( half_n , 1 ) ) )\n",
    "m, b = -1, 2\n",
    "x = np . linspace (-12, 12 , half_n )\n",
    "y = m*x + b + s*np . random . randn ( half_n )\n",
    "X_line = np . hstack ( ( x . reshape ( half_n , 1 ) , y . reshape ( half_n , 1 ) ) )\n",
    "X = np . vstack ( ( X_circ , X_line ) )\n"
   ]
  },
  {
   "cell_type": "code",
   "execution_count": 62,
   "metadata": {},
   "outputs": [
    {
     "data": {
      "text/plain": [
       "<matplotlib.collections.PathCollection at 0x1fbc14f7490>"
      ]
     },
     "execution_count": 62,
     "metadata": {},
     "output_type": "execute_result"
    },
    {
     "data": {
      "image/png": "[encoded data removed]",
      "text/plain": [
       "<Figure size 432x432 with 1 Axes>"
      ]
     },
     "metadata": {
      "needs_background": "light"
     },
     "output_type": "display_data"
    }
   ],
   "source": [
    "fig,ax=plt.subplots(1,1,figsize=(6,6))\n",
    "plt.scatter(X[:,0],X[:,1])"
   ]
  },
  {
   "cell_type": "markdown",
   "metadata": {},
   "source": [
    "1.Select any 3 points\n",
    "\n",
    "2.find the circle passing through these 3 points. This is our candidate circle.\n",
    "\n",
    "3.Use threshold distance and find all points which lie in the doughnut region. These are the inlier points.\n",
    "\n",
    "If the count is less than threshold inlier count then skip this candidate circle and go back to the first step.\n",
    "If the count exceeds threshold inlier count then move on to next step\n",
    "Use all inliner points and determine new candidate circle\n",
    "Find all new inliner points and new  outlier points for new candidate circle\n",
    "If the count of inlier points is less than threshold inlier count then skip this new candidate circle and go back to the first step.\n",
    "If the count exceeds threshold inlier count then move on to next step\n",
    "Calculate the mean absolute error for the new candidate circle using the new inlier points\n",
    "Add this candidate circle to the shortlist along with count of inlier points and the mean absolute error\n",
    "Go back to the first step and repeat for max iterations number of times\n",
    "When max iterations is completed, examine the shortlist of candidate circles and pick the circle with maximum inlier count. If more than candidate circles with same inliner count then pick the candidate circle with lesser mean absolute error"
   ]
  },
  {
   "cell_type": "code",
   "execution_count": 164,
   "metadata": {},
   "outputs": [
    {
     "name": "stdout",
     "output_type": "stream",
     "text": [
      "[[ 12.         -10.63288104]\n",
      " [  6.70381689  -7.75628254]\n",
      " [ -9.55102041  11.59359648]]\n",
      "(31, 2)\n",
      "31\n",
      "62\n",
      "(100, 2)\n"
     ]
    },
    {
     "data": {
      "image/png": "[encoded data removed]",
      "text/plain": [
       "<Figure size 360x360 with 1 Axes>"
      ]
     },
     "metadata": {
      "needs_background": "light"
     },
     "output_type": "display_data"
    }
   ],
   "source": [
    "ittrs_limit=1\n",
    "inlie_thres=22\n",
    "point_indices_range=range(N)\n",
    "\n",
    "def get_circle(points):\n",
    "    (x1,y1),(x2,y2),(x3,y3)=points\n",
    "   \n",
    "    a = (x2-x3)**2 + (y2-y3)**2\n",
    "    b = (x3-x1)**2 + (y3-y1)**2\n",
    "    c = (x1-x2)**2 + (y1-y2)**2   \n",
    "    h = 2*(a*b + b*c + c*a) - (a*a + b*b + c*c)\n",
    "\n",
    "    px = (a*(b+c-a)*x1 + b*(c+a-b)*x2 + c*(a+b-c)*x3) / h\n",
    "    py = (a*(b+c-a)*y1 + b*(c+a-b)*y2 + c*(a+b-c)*y3) / h \n",
    "    ar = a**0.5\n",
    "    br = b**0.5\n",
    "    cr = c**0.5 \n",
    "    r = ar*br*cr / ((ar+br+cr)*(-ar+br+cr)*(ar-br+cr)*(ar+br-cr))**0.5\n",
    "\n",
    "    return (px,py),r\n",
    "\n",
    "def get_inliers(points,center,r,thres):\n",
    "    tmp_diff_sqr=(X-np.array(center))**2\n",
    "    r_difs=np.abs(np.sqrt(tmp_diff_sqr[:,0]+tmp_diff_sqr[:,1])-r)\n",
    "    inliers=X[r_difs<thres]\n",
    "\n",
    "def get_matches(ittrs_limit):\n",
    "    for ittr in range(ittrs_limit):\n",
    "        point_indices=np.random.choice(point_indices_range,3)\n",
    "\n",
    "        print(X[point_indices])\n",
    "        \n",
    "        \n",
    "        fig,ax=plt.subplots(1,1,figsize=(5,5))\n",
    "        ax.scatter(X[:,0],X[:,1])\n",
    "        \n",
    "        circle=plt.Circle((px,py),r,fill=False)\n",
    "        ax.add_patch(circle)\n",
    "\n",
    "        \n",
    "        \n",
    "        print(inliers.shape)\n",
    "        print(len(inliers))\n",
    "        \n",
    "        ax.scatter(inliers[:,0],inliers[:,1],color='g')\n",
    "        ax.scatter(X[point_indices][:,0],X[point_indices][:,1],color='r')\n",
    "\n",
    "  \n"
   ]
  }
 ],
 "metadata": {
  "interpreter": {
   "hash": "5f1bdf047d8a3bf8581c558bb703dab59a12888a7563f49739b3e564682366f5"
  },
  "kernelspec": {
   "display_name": "Python 3.10.0 64-bit (system)",
   "language": "python",
   "name": "python3"
  },
  "language_info": {
   "codemirror_mode": {
    "name": "ipython",
    "version": 3
   },
   "file_extension": ".py",
   "mimetype": "text/x-python",
   "name": "python",
   "nbconvert_exporter": "python",
   "pygments_lexer": "ipython3",
   "version": "3.10.0"
  },
  "orig_nbformat": 4
 },
 "nbformat": 4,
 "nbformat_minor": 2
}
